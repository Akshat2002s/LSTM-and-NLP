{
 "cells": [
  {
   "cell_type": "code",
   "execution_count": 1,
   "id": "1f39e6b3",
   "metadata": {},
   "outputs": [],
   "source": [
    "import numpy as np\n",
    "import pandas as pd\n",
    "import matplotlib.pyplot as plt\n",
    "import seaborn as sns\n",
    "from tensorflow.keras.preprocessing.text import Tokenizer\n",
    "from tensorflow.keras.preprocessing.sequence import pad_sequences\n",
    "from tensorflow.keras.models import Sequential\n",
    "from tensorflow.keras.layers import Dense, Embedding, LSTM, SpatialDropout1D\n",
    "from sklearn.model_selection import train_test_split\n",
    "from keras.utils.np_utils import to_categorical\n",
    "from tensorflow.keras.callbacks import EarlyStopping\n",
    "from tensorflow.keras.layers import Dropout\n",
    "import re\n",
    "from nltk.corpus import stopwords\n",
    "from nltk import word_tokenize\n",
    "STOPWORDS = set(stopwords.words('english'))"
   ]
  },
  {
   "cell_type": "code",
   "execution_count": 2,
   "id": "9ced2371",
   "metadata": {},
   "outputs": [],
   "source": [
    "df=pd.read_csv('Dataset.csv')"
   ]
  },
  {
   "cell_type": "code",
   "execution_count": 3,
   "id": "4667a45d",
   "metadata": {},
   "outputs": [
    {
     "data": {
      "text/html": [
       "<div>\n",
       "<style scoped>\n",
       "    .dataframe tbody tr th:only-of-type {\n",
       "        vertical-align: middle;\n",
       "    }\n",
       "\n",
       "    .dataframe tbody tr th {\n",
       "        vertical-align: top;\n",
       "    }\n",
       "\n",
       "    .dataframe thead th {\n",
       "        text-align: right;\n",
       "    }\n",
       "</style>\n",
       "<table border=\"1\" class=\"dataframe\">\n",
       "  <thead>\n",
       "    <tr style=\"text-align: right;\">\n",
       "      <th></th>\n",
       "      <th>label1</th>\n",
       "      <th>label2</th>\n",
       "      <th>sentence</th>\n",
       "    </tr>\n",
       "  </thead>\n",
       "  <tbody>\n",
       "    <tr>\n",
       "      <th>0</th>\n",
       "      <td>DESC</td>\n",
       "      <td>manner</td>\n",
       "      <td>['How', 'did', 'serfdom', 'develop', 'in', 'an...</td>\n",
       "    </tr>\n",
       "    <tr>\n",
       "      <th>1</th>\n",
       "      <td>ENTY</td>\n",
       "      <td>cremat</td>\n",
       "      <td>['What', 'films', 'featured', 'the', 'characte...</td>\n",
       "    </tr>\n",
       "    <tr>\n",
       "      <th>2</th>\n",
       "      <td>DESC</td>\n",
       "      <td>manner</td>\n",
       "      <td>['How', 'can', 'I', 'find', 'a', 'list', 'of',...</td>\n",
       "    </tr>\n",
       "    <tr>\n",
       "      <th>3</th>\n",
       "      <td>ENTY</td>\n",
       "      <td>animal</td>\n",
       "      <td>['What', 'fowl', 'grabs', 'the', 'spotlight', ...</td>\n",
       "    </tr>\n",
       "    <tr>\n",
       "      <th>4</th>\n",
       "      <td>ABBR</td>\n",
       "      <td>exp</td>\n",
       "      <td>['What', 'is', 'the', 'full', 'form', 'of', '....</td>\n",
       "    </tr>\n",
       "  </tbody>\n",
       "</table>\n",
       "</div>"
      ],
      "text/plain": [
       "  label1  label2                                           sentence\n",
       "0   DESC  manner  ['How', 'did', 'serfdom', 'develop', 'in', 'an...\n",
       "1   ENTY  cremat  ['What', 'films', 'featured', 'the', 'characte...\n",
       "2   DESC  manner  ['How', 'can', 'I', 'find', 'a', 'list', 'of',...\n",
       "3   ENTY  animal  ['What', 'fowl', 'grabs', 'the', 'spotlight', ...\n",
       "4   ABBR     exp  ['What', 'is', 'the', 'full', 'form', 'of', '...."
      ]
     },
     "execution_count": 3,
     "metadata": {},
     "output_type": "execute_result"
    }
   ],
   "source": [
    "df.head()"
   ]
  },
  {
   "cell_type": "code",
   "execution_count": 4,
   "id": "b1e013ba",
   "metadata": {},
   "outputs": [
    {
     "data": {
      "text/plain": [
       "\"['What', 'English', 'word', 'comes', 'from', 'the', 'Old', 'French', 'covrefeu', ',', 'meaning', 'cover', 'fire', '?']\""
      ]
     },
     "execution_count": 4,
     "metadata": {},
     "output_type": "execute_result"
    }
   ],
   "source": [
    "df['sentence'][456]"
   ]
  },
  {
   "cell_type": "code",
   "execution_count": 5,
   "id": "77f19e90",
   "metadata": {},
   "outputs": [],
   "source": [
    "df = df.reset_index(drop=True)\n",
    "REPLACE_BY_SPACE_RE = re.compile('[/(){}\\[\\]\\|@,;]')\n",
    "BAD_SYMBOLS_RE = re.compile('[^0-9a-z #+_]')\n",
    "STOPWORDS = set(stopwords.words('english'))\n",
    "\n",
    "def clean_text(text):\n",
    "    text = text.lower()\n",
    "    text = REPLACE_BY_SPACE_RE.sub(' ', text)\n",
    "    text = BAD_SYMBOLS_RE.sub('', text) \n",
    "    text = text.replace('x', '')\n",
    "    text = ' '.join(word for word in text.split() if word not in STOPWORDS)\n",
    "    return text\n",
    "df['sentence'] = df['sentence'].apply(clean_text)"
   ]
  },
  {
   "cell_type": "code",
   "execution_count": 6,
   "id": "d9f06a4d",
   "metadata": {},
   "outputs": [
    {
     "data": {
      "text/plain": [
       "'english word comes old french covrefeu meaning cover fire'"
      ]
     },
     "execution_count": 6,
     "metadata": {},
     "output_type": "execute_result"
    }
   ],
   "source": [
    "df['sentence'][456]"
   ]
  },
  {
   "cell_type": "code",
   "execution_count": 7,
   "id": "67d8bfd5",
   "metadata": {},
   "outputs": [
    {
     "name": "stdout",
     "output_type": "stream",
     "text": [
      "Found 8388 unique tokens.\n"
     ]
    }
   ],
   "source": [
    "MAX_NB_WORDS = 5000\n",
    "MAX_SEQUENCE_LENGTH = 25\n",
    "EMBEDDING_DIM = 100\n",
    "\n",
    "tokenizer = Tokenizer(num_words=MAX_NB_WORDS, filters='!\"#$%&()*+,-./:;<=>?@[\\]^_`{|}~', lower=True)\n",
    "tokenizer.fit_on_texts(df['sentence'].values)\n",
    "word_index = tokenizer.word_index\n",
    "print('Found %s unique tokens.' % len(word_index))"
   ]
  },
  {
   "cell_type": "code",
   "execution_count": 8,
   "id": "5f5dfc42",
   "metadata": {},
   "outputs": [
    {
     "name": "stdout",
     "output_type": "stream",
     "text": [
      "Shape of data tensor: (15452, 25)\n"
     ]
    }
   ],
   "source": [
    "X = tokenizer.texts_to_sequences(df['sentence'].values)\n",
    "X = pad_sequences(X, maxlen=MAX_SEQUENCE_LENGTH)\n",
    "print('Shape of data tensor:', X.shape)"
   ]
  },
  {
   "cell_type": "code",
   "execution_count": 9,
   "id": "3beb7aaa",
   "metadata": {},
   "outputs": [
    {
     "data": {
      "text/plain": [
       "numpy.ndarray"
      ]
     },
     "execution_count": 9,
     "metadata": {},
     "output_type": "execute_result"
    }
   ],
   "source": [
    "type(X)"
   ]
  },
  {
   "cell_type": "code",
   "execution_count": 10,
   "id": "105bcebb",
   "metadata": {},
   "outputs": [
    {
     "name": "stdout",
     "output_type": "stream",
     "text": [
      "Shape of label tensor 1: (15452, 6)\n",
      "Shape of label tensor 2: (15452, 47)\n"
     ]
    }
   ],
   "source": [
    "Y1= pd.get_dummies(df['label1']).values\n",
    "Y2= pd.get_dummies(df['label2']).values\n",
    "print('Shape of label tensor 1:', Y1.shape)\n",
    "print('Shape of label tensor 2:', Y2.shape)"
   ]
  },
  {
   "cell_type": "code",
   "execution_count": 11,
   "id": "140e17f4",
   "metadata": {},
   "outputs": [
    {
     "name": "stdout",
     "output_type": "stream",
     "text": [
      "(12361, 25) (12361, 6)\n",
      "(3091, 25) (3091, 6)\n"
     ]
    }
   ],
   "source": [
    "X_train_1, X_test_1, Y_train_1, Y_test_1 = train_test_split(X,Y1, test_size = 0.2)\n",
    "print(X_train_1.shape,Y_train_1.shape)\n",
    "print(X_test_1.shape,Y_test_1.shape)"
   ]
  },
  {
   "cell_type": "code",
   "execution_count": 12,
   "id": "9cc96d24",
   "metadata": {},
   "outputs": [
    {
     "name": "stdout",
     "output_type": "stream",
     "text": [
      "(12361, 25) (12361, 47)\n",
      "(3091, 25) (3091, 47)\n"
     ]
    }
   ],
   "source": [
    "X_train_2, X_test_2, Y_train_2, Y_test_2 = train_test_split(X,Y2, test_size = 0.2)\n",
    "print(X_train_2.shape,Y_train_2.shape)\n",
    "print(X_test_2.shape,Y_test_2.shape)"
   ]
  },
  {
   "cell_type": "code",
   "execution_count": 13,
   "id": "6d26fde1",
   "metadata": {},
   "outputs": [
    {
     "name": "stdout",
     "output_type": "stream",
     "text": [
      "WARNING:tensorflow:Layer lstm will not use cuDNN kernels since it doesn't meet the criteria. It will use a generic GPU kernel as fallback when running on GPU.\n",
      "Model: \"sequential\"\n",
      "_________________________________________________________________\n",
      " Layer (type)                Output Shape              Param #   \n",
      "=================================================================\n",
      " embedding (Embedding)       (None, 25, 100)           500000    \n",
      "                                                                 \n",
      " spatial_dropout1d (SpatialD  (None, 25, 100)          0         \n",
      " ropout1D)                                                       \n",
      "                                                                 \n",
      " lstm (LSTM)                 (None, 100)               80400     \n",
      "                                                                 \n",
      " dense (Dense)               (None, 6)                 606       \n",
      "                                                                 \n",
      "=================================================================\n",
      "Total params: 581,006\n",
      "Trainable params: 581,006\n",
      "Non-trainable params: 0\n",
      "_________________________________________________________________\n",
      "None\n"
     ]
    }
   ],
   "source": [
    "model = Sequential()\n",
    "model.add(Embedding(MAX_NB_WORDS, EMBEDDING_DIM, input_length=X.shape[1]))\n",
    "model.add(SpatialDropout1D(0.2))\n",
    "model.add(LSTM(100, dropout=0.2, recurrent_dropout=0.2))\n",
    "model.add(Dense(6, activation='softmax'))\n",
    "model.compile(loss='categorical_crossentropy', optimizer='adam', metrics=['accuracy'])\n",
    "print(model.summary())"
   ]
  },
  {
   "cell_type": "code",
   "execution_count": 14,
   "id": "bdda94b5",
   "metadata": {},
   "outputs": [
    {
     "name": "stdout",
     "output_type": "stream",
     "text": [
      "Epoch 1/10\n",
      "174/174 [==============================] - 51s 273ms/step - loss: 1.3134 - accuracy: 0.4925 - val_loss: 0.5920 - val_accuracy: 0.8052\n",
      "Epoch 2/10\n",
      "174/174 [==============================] - 47s 270ms/step - loss: 0.3875 - accuracy: 0.8799 - val_loss: 0.3185 - val_accuracy: 0.9014\n",
      "Epoch 3/10\n",
      "174/174 [==============================] - 46s 267ms/step - loss: 0.1863 - accuracy: 0.9439 - val_loss: 0.2425 - val_accuracy: 0.9313\n",
      "Epoch 4/10\n",
      "174/174 [==============================] - 47s 270ms/step - loss: 0.1162 - accuracy: 0.9663 - val_loss: 0.2471 - val_accuracy: 0.9369\n",
      "Epoch 5/10\n",
      "174/174 [==============================] - 47s 272ms/step - loss: 0.0852 - accuracy: 0.9755 - val_loss: 0.2232 - val_accuracy: 0.9418\n",
      "Epoch 6/10\n",
      "174/174 [==============================] - 46s 267ms/step - loss: 0.0676 - accuracy: 0.9809 - val_loss: 0.2456 - val_accuracy: 0.9378\n",
      "Epoch 7/10\n",
      "174/174 [==============================] - 45s 260ms/step - loss: 0.0580 - accuracy: 0.9835 - val_loss: 0.2263 - val_accuracy: 0.9507\n",
      "Epoch 8/10\n",
      "174/174 [==============================] - 49s 279ms/step - loss: 0.0534 - accuracy: 0.9849 - val_loss: 0.2310 - val_accuracy: 0.9483\n",
      "Epoch 9/10\n",
      "174/174 [==============================] - 48s 275ms/step - loss: 0.0475 - accuracy: 0.9866 - val_loss: 0.2520 - val_accuracy: 0.9434\n",
      "Epoch 10/10\n",
      "174/174 [==============================] - 47s 273ms/step - loss: 0.0460 - accuracy: 0.9871 - val_loss: 0.2508 - val_accuracy: 0.9491\n"
     ]
    }
   ],
   "source": [
    "epochs = 10\n",
    "batch_size = 64\n",
    "\n",
    "history = model.fit(X_train_1, Y_train_1, epochs=epochs, batch_size=batch_size,validation_split=0.1)"
   ]
  },
  {
   "cell_type": "code",
   "execution_count": 15,
   "id": "c5251669",
   "metadata": {},
   "outputs": [
    {
     "name": "stdout",
     "output_type": "stream",
     "text": [
      "97/97 [==============================] - 4s 39ms/step - loss: 0.2525 - accuracy: 0.9453\n",
      "Test set\n",
      "  Loss: 0.253\n",
      "  Accuracy: 0.945\n"
     ]
    }
   ],
   "source": [
    "accr = model.evaluate(X_test_1,Y_test_1)\n",
    "print('Test set\\n  Loss: {:0.3f}\\n  Accuracy: {:0.3f}'.format(accr[0],accr[1]))"
   ]
  },
  {
   "cell_type": "code",
   "execution_count": 16,
   "id": "cc31c3f9",
   "metadata": {},
   "outputs": [
    {
     "data": {
      "image/png": "[encoded data removed]",
      "text/plain": [
       "<Figure size 432x288 with 1 Axes>"
      ]
     },
     "metadata": {
      "needs_background": "light"
     },
     "output_type": "display_data"
    }
   ],
   "source": [
    "plt.title('Loss')\n",
    "plt.plot(history.history['loss'], label='train')\n",
    "plt.plot(history.history['val_loss'], label='test')\n",
    "plt.legend()\n",
    "plt.show();"
   ]
  },
  {
   "cell_type": "code",
   "execution_count": 17,
   "id": "72b16da2",
   "metadata": {},
   "outputs": [
    {
     "data": {
      "image/png": "[encoded data removed]",
      "text/plain": [
       "<Figure size 432x288 with 1 Axes>"
      ]
     },
     "metadata": {
      "needs_background": "light"
     },
     "output_type": "display_data"
    }
   ],
   "source": [
    "plt.title('Accuracy')\n",
    "plt.plot(history.history['accuracy'], label='train')\n",
    "plt.plot(history.history['val_accuracy'], label='test')\n",
    "plt.legend()\n",
    "plt.show();"
   ]
  },
  {
   "cell_type": "code",
   "execution_count": 18,
   "id": "087f7ee1",
   "metadata": {},
   "outputs": [
    {
     "name": "stdout",
     "output_type": "stream",
     "text": [
      "WARNING:tensorflow:Layer lstm_1 will not use cuDNN kernels since it doesn't meet the criteria. It will use a generic GPU kernel as fallback when running on GPU.\n",
      "Model: \"sequential_1\"\n",
      "_________________________________________________________________\n",
      " Layer (type)                Output Shape              Param #   \n",
      "=================================================================\n",
      " embedding_1 (Embedding)     (None, 25, 100)           500000    \n",
      "                                                                 \n",
      " spatial_dropout1d_1 (Spatia  (None, 25, 100)          0         \n",
      " lDropout1D)                                                     \n",
      "                                                                 \n",
      " lstm_1 (LSTM)               (None, 100)               80400     \n",
      "                                                                 \n",
      " dense_1 (Dense)             (None, 47)                4747      \n",
      "                                                                 \n",
      "=================================================================\n",
      "Total params: 585,147\n",
      "Trainable params: 585,147\n",
      "Non-trainable params: 0\n",
      "_________________________________________________________________\n",
      "None\n"
     ]
    }
   ],
   "source": [
    "model2 = Sequential()\n",
    "model2.add(Embedding(MAX_NB_WORDS, EMBEDDING_DIM, input_length=X.shape[1]))\n",
    "model2.add(SpatialDropout1D(0.2))\n",
    "model2.add(LSTM(100, dropout=0.2, recurrent_dropout=0.2))\n",
    "model2.add(Dense(47, activation='softmax'))\n",
    "model2.compile(loss='categorical_crossentropy', optimizer='adam', metrics=['accuracy'])\n",
    "print(model2.summary())"
   ]
  },
  {
   "cell_type": "code",
   "execution_count": 19,
   "id": "80549c63",
   "metadata": {},
   "outputs": [
    {
     "name": "stdout",
     "output_type": "stream",
     "text": [
      "Epoch 1/10\n",
      "174/174 [==============================] - 48s 263ms/step - loss: 3.0490 - accuracy: 0.1959 - val_loss: 2.7272 - val_accuracy: 0.3040\n",
      "Epoch 2/10\n",
      "174/174 [==============================] - 47s 271ms/step - loss: 2.1278 - accuracy: 0.4568 - val_loss: 1.5266 - val_accuracy: 0.6370\n",
      "Epoch 3/10\n",
      "174/174 [==============================] - 46s 267ms/step - loss: 1.0581 - accuracy: 0.7519 - val_loss: 0.9094 - val_accuracy: 0.7842\n",
      "Epoch 4/10\n",
      "174/174 [==============================] - 48s 278ms/step - loss: 0.5783 - accuracy: 0.8724 - val_loss: 0.6431 - val_accuracy: 0.8480\n",
      "Epoch 5/10\n",
      "174/174 [==============================] - 48s 273ms/step - loss: 0.3629 - accuracy: 0.9221 - val_loss: 0.5147 - val_accuracy: 0.8852\n",
      "Epoch 6/10\n",
      "174/174 [==============================] - 48s 274ms/step - loss: 0.2552 - accuracy: 0.9491 - val_loss: 0.4540 - val_accuracy: 0.9038\n",
      "Epoch 7/10\n",
      "174/174 [==============================] - 47s 271ms/step - loss: 0.1882 - accuracy: 0.9644 - val_loss: 0.4259 - val_accuracy: 0.9127\n",
      "Epoch 8/10\n",
      "174/174 [==============================] - 47s 271ms/step - loss: 0.1502 - accuracy: 0.9713 - val_loss: 0.4164 - val_accuracy: 0.9151\n",
      "Epoch 9/10\n",
      "174/174 [==============================] - 48s 274ms/step - loss: 0.1204 - accuracy: 0.9766 - val_loss: 0.3992 - val_accuracy: 0.9216\n",
      "Epoch 10/10\n",
      "174/174 [==============================] - 43s 247ms/step - loss: 0.1056 - accuracy: 0.9777 - val_loss: 0.3989 - val_accuracy: 0.9232\n"
     ]
    }
   ],
   "source": [
    "epochs = 10\n",
    "batch_size = 64\n",
    "\n",
    "history = model2.fit(X_train_2, Y_train_2, epochs=epochs, batch_size=batch_size,validation_split=0.1)"
   ]
  },
  {
   "cell_type": "code",
   "execution_count": 20,
   "id": "a471560f",
   "metadata": {},
   "outputs": [
    {
     "name": "stdout",
     "output_type": "stream",
     "text": [
      "97/97 [==============================] - 4s 38ms/step - loss: 0.3935 - accuracy: 0.9282\n",
      "Test set\n",
      "  Loss: 0.394\n",
      "  Accuracy: 0.928\n"
     ]
    }
   ],
   "source": [
    "accr = model2.evaluate(X_test_2,Y_test_2)\n",
    "print('Test set\\n  Loss: {:0.3f}\\n  Accuracy: {:0.3f}'.format(accr[0],accr[1]))"
   ]
  },
  {
   "cell_type": "code",
   "execution_count": 21,
   "id": "6a4934f8",
   "metadata": {},
   "outputs": [
    {
     "data": {
      "image/png": "[encoded data removed]",
      "text/plain": [
       "<Figure size 432x288 with 1 Axes>"
      ]
     },
     "metadata": {
      "needs_background": "light"
     },
     "output_type": "display_data"
    }
   ],
   "source": [
    "plt.title('Loss')\n",
    "plt.plot(history.history['loss'], label='train')\n",
    "plt.plot(history.history['val_loss'], label='test')\n",
    "plt.legend()\n",
    "plt.show();"
   ]
  },
  {
   "cell_type": "code",
   "execution_count": 22,
   "id": "941dca23",
   "metadata": {},
   "outputs": [
    {
     "data": {
      "image/png": "[encoded data removed]",
      "text/plain": [
       "<Figure size 432x288 with 1 Axes>"
      ]
     },
     "metadata": {
      "needs_background": "light"
     },
     "output_type": "display_data"
    }
   ],
   "source": [
    "plt.title('Accuracy')\n",
    "plt.plot(history.history['accuracy'], label='train')\n",
    "plt.plot(history.history['val_accuracy'], label='test')\n",
    "plt.legend()\n",
    "plt.show();"
   ]
  },
  {
   "cell_type": "code",
   "execution_count": null,
   "id": "f09ad8ef",
   "metadata": {},
   "outputs": [],
   "source": []
  }
 ],
 "metadata": {
  "kernelspec": {
   "display_name": "Python 3 (ipykernel)",
   "language": "python",
   "name": "python3"
  },
  "language_info": {
   "codemirror_mode": {
    "name": "ipython",
    "version": 3
   },
   "file_extension": ".py",
   "mimetype": "text/x-python",
   "name": "python",
   "nbconvert_exporter": "python",
   "pygments_lexer": "ipython3",
   "version": "3.9.12"
  }
 },
 "nbformat": 4,
 "nbformat_minor": 5
}
