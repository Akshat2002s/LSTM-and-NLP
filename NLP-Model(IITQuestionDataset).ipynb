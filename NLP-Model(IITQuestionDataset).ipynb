{
 "cells": [
  {
   "cell_type": "code",
   "execution_count": 1,
   "id": "1f39e6b3",
   "metadata": {},
   "outputs": [],
   "source": [
    "import numpy as np\n",
    "import pandas as pd\n",
    "import matplotlib.pyplot as plt\n",
    "import seaborn as sns\n",
    "from tensorflow.keras.preprocessing.text import Tokenizer\n",
    "from tensorflow.keras.preprocessing.sequence import pad_sequences\n",
    "from tensorflow.keras.models import Sequential\n",
    "from tensorflow.keras.layers import Dense, Embedding, LSTM, SpatialDropout1D\n",
    "from sklearn.model_selection import train_test_split\n",
    "from keras.utils.np_utils import to_categorical\n",
    "from tensorflow.keras.callbacks import EarlyStopping\n",
    "from tensorflow.keras.layers import Dropout\n",
    "import re"
   ]
  },
  {
   "cell_type": "code",
   "execution_count": 2,
   "id": "29fb9c9d",
   "metadata": {},
   "outputs": [],
   "source": [
    "stopwords=[\"i\", \"me\", \"my\", \"myself\", \"we\", \"our\", \"ours\", \"ourselves\", \"you\", \"your\", \"yours\",\n",
    "           \"yourself\", \"yourselves\", \"he\", \"him\", \"his\", \"himself\", \"she\", \"her\", \"hers\", \"herself\",\n",
    "           \"it\", \"its\", \"itself\", \"they\", \"them\", \"their\", \"theirs\", \"themselves\", \"what\", \"which\",\n",
    "           \"who\", \"whom\", \"this\", \"that\", \"these\", \"those\", \"am\", \"is\", \"are\", \"was\", \"were\", \"be\",\n",
    "           \"been\", \"being\", \"have\", \"has\", \"had\", \"having\", \"do\", \"does\", \"did\", \"doing\", \"a\", \"an\",\n",
    "           \"the\", \"and\", \"but\", \"if\", \"or\", \"because\", \"as\", \"until\", \"while\", \"of\", \"at\", \"by\",\n",
    "           \"for\", \"with\", \"about\", \"against\", \"between\", \"into\", \"through\", \"during\", \"before\",\n",
    "           \"after\", \"above\", \"below\", \"to\", \"from\", \"up\", \"down\", \"in\", \"out\", \"on\", \"off\", \"over\",\n",
    "           \"under\", \"again\", \"further\", \"then\", \"once\", \"here\", \"there\", \"when\", \"where\", \"why\",\n",
    "           \"how\", \"all\", \"any\", \"both\", \"each\", \"few\", \"more\", \"most\", \"other\", \"some\", \"such\",\n",
    "           \"no\", \"nor\", \"not\", \"only\", \"own\", \"same\", \"so\", \"than\", \"too\", \"very\", \"s\", \"t\", \"can\",\n",
    "           \"will\", \"just\", \"don\", \"should\", \"now\"]\n",
    "STOPWORDS = set(stopwords)"
   ]
  },
  {
   "cell_type": "code",
   "execution_count": 3,
   "id": "9ced2371",
   "metadata": {},
   "outputs": [],
   "source": [
    "df=pd.read_csv('C:/Users/Zephyrus/Datasets/NLP/subjects-questions.csv')"
   ]
  },
  {
   "cell_type": "code",
   "execution_count": 4,
   "id": "4667a45d",
   "metadata": {},
   "outputs": [
    {
     "data": {
      "text/html": [
       "<div>\n",
       "<style scoped>\n",
       "    .dataframe tbody tr th:only-of-type {\n",
       "        vertical-align: middle;\n",
       "    }\n",
       "\n",
       "    .dataframe tbody tr th {\n",
       "        vertical-align: top;\n",
       "    }\n",
       "\n",
       "    .dataframe thead th {\n",
       "        text-align: right;\n",
       "    }\n",
       "</style>\n",
       "<table border=\"1\" class=\"dataframe\">\n",
       "  <thead>\n",
       "    <tr style=\"text-align: right;\">\n",
       "      <th></th>\n",
       "      <th>eng</th>\n",
       "      <th>Subject</th>\n",
       "    </tr>\n",
       "  </thead>\n",
       "  <tbody>\n",
       "    <tr>\n",
       "      <th>0</th>\n",
       "      <td>An anti-forest measure is\\nA. Afforestation\\nB...</td>\n",
       "      <td>Biology</td>\n",
       "    </tr>\n",
       "    <tr>\n",
       "      <th>1</th>\n",
       "      <td>Among the following organic acids, the acid pr...</td>\n",
       "      <td>Chemistry</td>\n",
       "    </tr>\n",
       "    <tr>\n",
       "      <th>2</th>\n",
       "      <td>If the area of two similar triangles are equal...</td>\n",
       "      <td>Maths</td>\n",
       "    </tr>\n",
       "    <tr>\n",
       "      <th>3</th>\n",
       "      <td>In recent year, there has been a growing\\nconc...</td>\n",
       "      <td>Biology</td>\n",
       "    </tr>\n",
       "    <tr>\n",
       "      <th>4</th>\n",
       "      <td>Which of the following statement\\nregarding tr...</td>\n",
       "      <td>Physics</td>\n",
       "    </tr>\n",
       "  </tbody>\n",
       "</table>\n",
       "</div>"
      ],
      "text/plain": [
       "                                                 eng    Subject\n",
       "0  An anti-forest measure is\\nA. Afforestation\\nB...    Biology\n",
       "1  Among the following organic acids, the acid pr...  Chemistry\n",
       "2  If the area of two similar triangles are equal...      Maths\n",
       "3  In recent year, there has been a growing\\nconc...    Biology\n",
       "4  Which of the following statement\\nregarding tr...    Physics"
      ]
     },
     "execution_count": 4,
     "metadata": {},
     "output_type": "execute_result"
    }
   ],
   "source": [
    "df.head()"
   ]
  },
  {
   "cell_type": "code",
   "execution_count": 5,
   "id": "b1e013ba",
   "metadata": {},
   "outputs": [
    {
     "data": {
      "text/plain": [
       "'The area of triangle formed by the lines\\n\\\\( 18 x^{2}-9 x y+y^{2}=0 \\\\) and the line \\\\( y=9 \\\\)\\nis\\nA. \\\\( \\\\frac{27}{4} \\\\)\\nв. \\\\( \\\\frac{27}{2} \\\\)\\nc. \\\\( \\\\frac{27}{8} \\\\)\\nD. 27'"
      ]
     },
     "execution_count": 5,
     "metadata": {},
     "output_type": "execute_result"
    }
   ],
   "source": [
    "df['eng'][456]"
   ]
  },
  {
   "cell_type": "code",
   "execution_count": 6,
   "id": "77f19e90",
   "metadata": {},
   "outputs": [],
   "source": [
    "df = df.reset_index(drop=True)\n",
    "REPLACE_BY_SPACE_RE = re.compile('[/(){}\\[\\]\\|@,;]')\n",
    "BAD_SYMBOLS_RE = re.compile('[^0-9a-z #+_]')\n",
    "\n",
    "def clean_text(text):\n",
    "    text = text.lower()\n",
    "    text = REPLACE_BY_SPACE_RE.sub(' ', text)\n",
    "    text = BAD_SYMBOLS_RE.sub('', text) \n",
    "    text = text.replace('x', '')\n",
    "    text = ' '.join(word for word in text.split() if word not in STOPWORDS)\n",
    "    return text\n",
    "df['eng'] = df['eng'].apply(clean_text)"
   ]
  },
  {
   "cell_type": "code",
   "execution_count": 7,
   "id": "d9f06a4d",
   "metadata": {},
   "outputs": [
    {
     "data": {
      "text/plain": [
       "'area triangle formed lines 18 2 9 y+y 2 0 line y9 isa frac 27 4 frac 27 2 c frac 27 8 d 27'"
      ]
     },
     "execution_count": 7,
     "metadata": {},
     "output_type": "execute_result"
    }
   ],
   "source": [
    "df['eng'][456]"
   ]
  },
  {
   "cell_type": "code",
   "execution_count": 8,
   "id": "67d8bfd5",
   "metadata": {},
   "outputs": [
    {
     "name": "stdout",
     "output_type": "stream",
     "text": [
      "Found 136535 unique tokens.\n"
     ]
    }
   ],
   "source": [
    "MAX_NB_WORDS = 10000\n",
    "MAX_SEQUENCE_LENGTH = 100\n",
    "EMBEDDING_DIM = 100\n",
    "\n",
    "tokenizer = Tokenizer(num_words=MAX_NB_WORDS, filters='!\"#$%&()*+,-./:;<=>?@[\\]^_`{|}~', lower=True)\n",
    "tokenizer.fit_on_texts(df['eng'].values)\n",
    "word_index = tokenizer.word_index\n",
    "print('Found %s unique tokens.' % len(word_index))"
   ]
  },
  {
   "cell_type": "code",
   "execution_count": 9,
   "id": "5f5dfc42",
   "metadata": {},
   "outputs": [
    {
     "name": "stdout",
     "output_type": "stream",
     "text": [
      "Shape of data tensor: (122519, 100)\n"
     ]
    }
   ],
   "source": [
    "X = tokenizer.texts_to_sequences(df['eng'].values)\n",
    "X = pad_sequences(X, maxlen=MAX_SEQUENCE_LENGTH)\n",
    "print('Shape of data tensor:', X.shape)"
   ]
  },
  {
   "cell_type": "code",
   "execution_count": 10,
   "id": "3beb7aaa",
   "metadata": {},
   "outputs": [
    {
     "data": {
      "text/plain": [
       "numpy.ndarray"
      ]
     },
     "execution_count": 10,
     "metadata": {},
     "output_type": "execute_result"
    }
   ],
   "source": [
    "type(X)"
   ]
  },
  {
   "cell_type": "code",
   "execution_count": 11,
   "id": "105bcebb",
   "metadata": {},
   "outputs": [
    {
     "name": "stdout",
     "output_type": "stream",
     "text": [
      "Shape of label tensor 1: (122519,)\n"
     ]
    }
   ],
   "source": [
    "from sklearn.preprocessing import LabelEncoder\n",
    "lb=LabelEncoder()\n",
    "Y=lb.fit_transform(df['Subject']) \n",
    "print('Shape of label tensor 1:', Y.shape)"
   ]
  },
  {
   "cell_type": "code",
   "execution_count": 12,
   "id": "140e17f4",
   "metadata": {},
   "outputs": [
    {
     "name": "stdout",
     "output_type": "stream",
     "text": [
      "(98015, 100) (98015,)\n",
      "(24504, 100) (24504,)\n"
     ]
    }
   ],
   "source": [
    "X_train, X_test, Y_train, Y_test = train_test_split(X,Y, test_size = 0.2)\n",
    "print(X_train.shape,Y_train.shape)\n",
    "print(X_test.shape,Y_test.shape)"
   ]
  },
  {
   "cell_type": "code",
   "execution_count": 13,
   "id": "b722723b",
   "metadata": {},
   "outputs": [
    {
     "name": "stdout",
     "output_type": "stream",
     "text": [
      "WARNING:tensorflow:ModelCheckpoint mode <built-in function max> is unknown, fallback to auto mode.\n"
     ]
    }
   ],
   "source": [
    "from keras.callbacks import EarlyStopping\n",
    "from keras.callbacks import ModelCheckpoint\n",
    "\n",
    "es=EarlyStopping(monitor='val_accuracy', mode='max', verbose=1, patience=3)\n",
    "mc=ModelCheckpoint('best_model.h5', monitor='val_accuracy', mode=max, verbose=1, save_best_only=True)"
   ]
  },
  {
   "cell_type": "code",
   "execution_count": 14,
   "id": "6d26fde1",
   "metadata": {
    "scrolled": false
   },
   "outputs": [
    {
     "name": "stdout",
     "output_type": "stream",
     "text": [
      "Model: \"sequential\"\n",
      "_________________________________________________________________\n",
      " Layer (type)                Output Shape              Param #   \n",
      "=================================================================\n",
      " embedding (Embedding)       (None, 100, 100)          1000000   \n",
      "                                                                 \n",
      " spatial_dropout1d (SpatialD  (None, 100, 100)         0         \n",
      " ropout1D)                                                       \n",
      "                                                                 \n",
      " lstm (LSTM)                 (None, 100)               80400     \n",
      "                                                                 \n",
      " dropout (Dropout)           (None, 100)               0         \n",
      "                                                                 \n",
      " dense (Dense)               (None, 16)                1616      \n",
      "                                                                 \n",
      " dropout_1 (Dropout)         (None, 16)                0         \n",
      "                                                                 \n",
      " dense_1 (Dense)             (None, 4)                 68        \n",
      "                                                                 \n",
      "=================================================================\n",
      "Total params: 1,082,084\n",
      "Trainable params: 1,082,084\n",
      "Non-trainable params: 0\n",
      "_________________________________________________________________\n",
      "None\n"
     ]
    }
   ],
   "source": [
    "model = Sequential()\n",
    "model.add(Embedding(MAX_NB_WORDS, EMBEDDING_DIM, input_length=X.shape[1]))\n",
    "model.add(SpatialDropout1D(0.2))\n",
    "model.add(LSTM(100, recurrent_regularizer='l2'))\n",
    "model.add(Dropout(0.4))\n",
    "model.add(Dense(16, kernel_regularizer='l1', activation='relu'))\n",
    "model.add(Dropout(0.4))\n",
    "model.add(Dense(4, activation='softmax'))\n",
    "model.compile(loss='sparse_categorical_crossentropy', optimizer='adam', metrics=['accuracy'])\n",
    "print(model.summary())"
   ]
  },
  {
   "cell_type": "code",
   "execution_count": 15,
   "id": "bdda94b5",
   "metadata": {
    "scrolled": true
   },
   "outputs": [
    {
     "name": "stdout",
     "output_type": "stream",
     "text": [
      "Epoch 1/10\n",
      "1225/1226 [============================>.] - ETA: 0s - loss: 1.0245 - accuracy: 0.7336\n",
      "Epoch 1: val_accuracy improved from -inf to 0.89165, saving model to best_model.h5\n",
      "1226/1226 [==============================] - 31s 23ms/step - loss: 1.0244 - accuracy: 0.7336 - val_loss: 0.5462 - val_accuracy: 0.8916\n",
      "Epoch 2/10\n",
      "1225/1226 [============================>.] - ETA: 0s - loss: 0.5576 - accuracy: 0.8810\n",
      "Epoch 2: val_accuracy improved from 0.89165 to 0.90185, saving model to best_model.h5\n",
      "1226/1226 [==============================] - 28s 23ms/step - loss: 0.5575 - accuracy: 0.8811 - val_loss: 0.4256 - val_accuracy: 0.9019\n",
      "Epoch 3/10\n",
      "1225/1226 [============================>.] - ETA: 0s - loss: 0.4931 - accuracy: 0.8967\n",
      "Epoch 3: val_accuracy improved from 0.90185 to 0.90945, saving model to best_model.h5\n",
      "1226/1226 [==============================] - 28s 23ms/step - loss: 0.4931 - accuracy: 0.8967 - val_loss: 0.4085 - val_accuracy: 0.9095\n",
      "Epoch 4/10\n",
      "1225/1226 [============================>.] - ETA: 0s - loss: 0.4431 - accuracy: 0.9068\n",
      "Epoch 4: val_accuracy improved from 0.90945 to 0.91057, saving model to best_model.h5\n",
      "1226/1226 [==============================] - 28s 23ms/step - loss: 0.4430 - accuracy: 0.9069 - val_loss: 0.3809 - val_accuracy: 0.9106\n",
      "Epoch 5/10\n",
      "1226/1226 [==============================] - ETA: 0s - loss: 0.3829 - accuracy: 0.9161\n",
      "Epoch 5: val_accuracy improved from 0.91057 to 0.91440, saving model to best_model.h5\n",
      "1226/1226 [==============================] - 28s 23ms/step - loss: 0.3829 - accuracy: 0.9161 - val_loss: 0.3624 - val_accuracy: 0.9144\n",
      "Epoch 6/10\n",
      "1226/1226 [==============================] - ETA: 0s - loss: 0.3583 - accuracy: 0.9198\n",
      "Epoch 6: val_accuracy did not improve from 0.91440\n",
      "1226/1226 [==============================] - 29s 23ms/step - loss: 0.3583 - accuracy: 0.9198 - val_loss: 0.3619 - val_accuracy: 0.9141\n",
      "Epoch 7/10\n",
      "1225/1226 [============================>.] - ETA: 0s - loss: 0.3448 - accuracy: 0.9236\n",
      "Epoch 7: val_accuracy did not improve from 0.91440\n",
      "1226/1226 [==============================] - 28s 23ms/step - loss: 0.3448 - accuracy: 0.9236 - val_loss: 0.3663 - val_accuracy: 0.9138\n",
      "Epoch 8/10\n",
      "1225/1226 [============================>.] - ETA: 0s - loss: 0.3258 - accuracy: 0.9252\n",
      "Epoch 8: val_accuracy did not improve from 0.91440\n",
      "1226/1226 [==============================] - 28s 23ms/step - loss: 0.3258 - accuracy: 0.9253 - val_loss: 0.3642 - val_accuracy: 0.9134\n",
      "Epoch 9/10\n",
      "1225/1226 [============================>.] - ETA: 0s - loss: 0.3066 - accuracy: 0.9308\n",
      "Epoch 9: val_accuracy did not improve from 0.91440\n",
      "1226/1226 [==============================] - 28s 23ms/step - loss: 0.3065 - accuracy: 0.9308 - val_loss: 0.3499 - val_accuracy: 0.9112\n",
      "Epoch 10/10\n",
      "1224/1226 [============================>.] - ETA: 0s - loss: 0.2980 - accuracy: 0.9331\n",
      "Epoch 10: val_accuracy did not improve from 0.91440\n",
      "1226/1226 [==============================] - 28s 23ms/step - loss: 0.2980 - accuracy: 0.9331 - val_loss: 0.3785 - val_accuracy: 0.9127\n"
     ]
    }
   ],
   "source": [
    "epochs = 10\n",
    "batch_size = 64\n",
    "\n",
    "history = model.fit(X_train, Y_train, epochs=epochs, batch_size=batch_size,validation_split=0.2, callbacks=[mc])"
   ]
  },
  {
   "cell_type": "code",
   "execution_count": 16,
   "id": "c5251669",
   "metadata": {},
   "outputs": [
    {
     "name": "stdout",
     "output_type": "stream",
     "text": [
      "91.44008755683899 %\n"
     ]
    }
   ],
   "source": [
    "acc=max(history.history['val_accuracy'])\n",
    "print(acc*100,'%')"
   ]
  },
  {
   "cell_type": "code",
   "execution_count": 17,
   "id": "cc31c3f9",
   "metadata": {},
   "outputs": [
    {
     "data": {
      "image/png": "[encoded data removed]",
      "text/plain": [
       "<Figure size 432x288 with 1 Axes>"
      ]
     },
     "metadata": {
      "needs_background": "light"
     },
     "output_type": "display_data"
    }
   ],
   "source": [
    "plt.title('Loss')\n",
    "plt.plot(history.history['loss'], label='train')\n",
    "plt.plot(history.history['val_loss'], label='test')\n",
    "plt.legend()\n",
    "plt.show();"
   ]
  },
  {
   "cell_type": "code",
   "execution_count": 18,
   "id": "72b16da2",
   "metadata": {},
   "outputs": [
    {
     "data": {
      "image/png": "[encoded data removed]",
      "text/plain": [
       "<Figure size 432x288 with 1 Axes>"
      ]
     },
     "metadata": {
      "needs_background": "light"
     },
     "output_type": "display_data"
    }
   ],
   "source": [
    "plt.title('Accuracy')\n",
    "plt.plot(history.history['accuracy'], label='train')\n",
    "plt.plot(history.history['val_accuracy'], label='test')\n",
    "plt.legend()\n",
    "plt.show();"
   ]
  },
  {
   "cell_type": "code",
   "execution_count": 19,
   "id": "f09ad8ef",
   "metadata": {},
   "outputs": [
    {
     "name": "stdout",
     "output_type": "stream",
     "text": [
      "Num GPUs Available:  1\n"
     ]
    }
   ],
   "source": [
    "import tensorflow as tf\n",
    "print(\"Num GPUs Available: \", len(tf.config.list_physical_devices('GPU')))"
   ]
  },
  {
   "cell_type": "code",
   "execution_count": null,
   "id": "9332f0ec",
   "metadata": {},
   "outputs": [],
   "source": []
  }
 ],
 "metadata": {
  "kernelspec": {
   "display_name": "gpu_env",
   "language": "python",
   "name": "gpu_env"
  },
  "language_info": {
   "codemirror_mode": {
    "name": "ipython",
    "version": 3
   },
   "file_extension": ".py",
   "mimetype": "text/x-python",
   "name": "python",
   "nbconvert_exporter": "python",
   "pygments_lexer": "ipython3",
   "version": "3.9.12"
  }
 },
 "nbformat": 4,
 "nbformat_minor": 5
}
